{
 "cells": [
  {
   "cell_type": "markdown",
   "metadata": {},
   "source": [
    "Q1:Define Object Oriented Programming Language?\n",
    "A :Object Oriented Programming (OOP) is a programming paradigm where the complete software operates as a bunch of objects talking to each other. An object is a collection of data and methods that operate on its data.\n"
   ]
  },
  {
   "cell_type": "markdown",
   "metadata": {},
   "source": [
    "Q2:List down the Benefits of OOP?\n",
    "A :1: It provides a clear modular structure for programs which makes it good for defining abstract datatypes in which            implementation details are hidden.\n",
    "2;Objects can also be reused within an across applications.\n",
    "3: It makes software easier to maintain.\n",
    "4:  Reuse also enables faster development"
   ]
  },
  {
   "cell_type": "markdown",
   "metadata": {},
   "source": [
    "Q3:Differentiate between function and method?\n",
    "Function:A function is a block of code to carry out a specific task, will contain its own scope and is called by name.\n",
    "Method:Methods are functions defined inside the body of a class. They are used to define the behaviors of an object."
   ]
  },
  {
   "cell_type": "markdown",
   "metadata": {},
   "source": [
    "Q4:Define the following terms:\n",
    "1. Class: A class is a blueprint for the object.\n",
    "   Example: class (Parrot):\n",
    "2. Object: An object (instance) is an instantiation of a class. When class is defined, only the description for the object is defined.\n",
    "3. Attribute: An attribute is defined as a quality or characteristic of a person, place, or thing.\n",
    "4. Behavior: "
   ]
  },
  {
   "cell_type": "markdown",
   "metadata": {},
   "source": [
    "Q5: Write a code in python in which create a class named it Car which have 5 attributes such like (model, color and name etc.) and 3 methods. And create 5 object instance from that class."
   ]
  },
  {
   "cell_type": "code",
   "execution_count": 8,
   "metadata": {},
   "outputs": [
    {
     "ename": "AttributeError",
     "evalue": "'Car' object has no attribute 'newcar'",
     "output_type": "error",
     "traceback": [
      "\u001b[1;31m---------------------------------------------------------------------------\u001b[0m",
      "\u001b[1;31mAttributeError\u001b[0m                            Traceback (most recent call last)",
      "\u001b[1;32m<ipython-input-8-323353acc9eb>\u001b[0m in \u001b[0;36m<module>\u001b[1;34m()\u001b[0m\n\u001b[0;32m     11\u001b[0m \u001b[1;33m\u001b[0m\u001b[0m\n\u001b[0;32m     12\u001b[0m \u001b[0mdetail_of_car\u001b[0m  \u001b[1;33m=\u001b[0m \u001b[0mCar\u001b[0m\u001b[1;33m(\u001b[0m\u001b[1;34m'Cultus'\u001b[0m\u001b[1;33m,\u001b[0m \u001b[1;34m'stud56'\u001b[0m\u001b[1;33m,\u001b[0m \u001b[1;34m'brown'\u001b[0m\u001b[1;33m,\u001b[0m \u001b[0mstr\u001b[0m\u001b[1;33m(\u001b[0m\u001b[1;36m2016\u001b[0m\u001b[1;33m)\u001b[0m\u001b[1;33m,\u001b[0m \u001b[1;34m\"medium\"\u001b[0m\u001b[1;33m)\u001b[0m\u001b[1;33m\u001b[0m\u001b[0m\n\u001b[1;32m---> 13\u001b[1;33m \u001b[0mprint\u001b[0m\u001b[1;33m(\u001b[0m\u001b[0mdetail_of_car\u001b[0m\u001b[1;33m.\u001b[0m\u001b[0mnewcar\u001b[0m\u001b[1;33m(\u001b[0m\u001b[1;33m)\u001b[0m\u001b[1;33m)\u001b[0m\u001b[1;33m\u001b[0m\u001b[0m\n\u001b[0m",
      "\u001b[1;31mAttributeError\u001b[0m: 'Car' object has no attribute 'newcar'"
     ]
    }
   ],
   "source": [
    "class Car():\n",
    "    def __init__(self, name, model, color, year, condition):\n",
    "        self.name = name\n",
    "        self.model= model\n",
    "        self.color= color\n",
    "        self.year= 2018\n",
    "        self.condition= \"medium\"\n",
    "    def _newcar_(self):\n",
    "        Requirements = \"This Car has a \" + self.name + self.model + self.color\n",
    "        return Requirements.title()\n",
    "        \n",
    "detail_of_car  = Car('Cultus', 'stud56', 'brown', str(2016), \"medium\") \n",
    "print(detail_of_car.newcar())"
   ]
  },
  {
   "cell_type": "code",
   "execution_count": null,
   "metadata": {},
   "outputs": [],
   "source": []
  },
  {
   "cell_type": "code",
   "execution_count": null,
   "metadata": {},
   "outputs": [],
   "source": []
  }
 ],
 "metadata": {
  "kernelspec": {
   "display_name": "Python 3",
   "language": "python",
   "name": "python3"
  },
  "language_info": {
   "codemirror_mode": {
    "name": "ipython",
    "version": 3
   },
   "file_extension": ".py",
   "mimetype": "text/x-python",
   "name": "python",
   "nbconvert_exporter": "python",
   "pygments_lexer": "ipython3",
   "version": "3.7.0"
  }
 },
 "nbformat": 4,
 "nbformat_minor": 2
}
